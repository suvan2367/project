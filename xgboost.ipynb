{
 "cells": [
  {
   "cell_type": "code",
   "execution_count": null,
   "id": "c9b733a4",
   "metadata": {},
   "outputs": [],
   "source": [
    "\n",
    "import pandas as pd\n",
    "from xgboost import XGBRegressor\n",
    "from sklearn.model_selection import train_test_split\n",
    "import joblib  # for saving and loading the model\n",
    "\n",
    "df = pd.read_csv(\"transactions.csv\")\n",
    "df['transaction_date'] = pd.to_datetime(df['transaction_date'])\n",
    "\n",
    "df.columns = df.columns.str.strip().str.lower().str.replace(' ', '_')\n",
    "\n",
    "today = df['transaction_date'].max() + pd.Timedelta(days=1)\n",
    "rfm = df.groupby('customer_id').agg({\n",
    "    'transaction_date': [lambda x: (today - x.max()).days, 'count'],\n",
    "    'amount': ['mean', 'sum']\n",
    "})\n",
    "rfm.columns = ['recency', 'frequency', 'aov', 'total_spent']\n",
    "rfm = rfm.reset_index()\n",
    "\n",
    "rfm['ltv'] = rfm['frequency'] * rfm['aov'] * 3  # simple proxy\n",
    "\n",
    "X = rfm[['recency', 'frequency', 'aov']]\n",
    "y = rfm['ltv']\n",
    "X_train, X_test, y_train, y_test = train_test_split(X, y, test_size=0.2, random_state=42)\n",
    "\n",
    "model = XGBRegressor(n_estimators=100, learning_rate=0.1, max_depth=4, random_state=42)\n",
    "model.fit(X_train, y_train)\n",
    "\n",
    "joblib.dump(model, \"xgboost_ltv_model.pkl\")\n",
    "print(\"Model trained and saved as xgboost_ltv_model.pkl\")\n"
   ]
  }
 ],
 "metadata": {
  "kernelspec": {
   "display_name": "Python 3 (ipykernel)",
   "language": "python",
   "name": "python3"
  },
  "language_info": {
   "codemirror_mode": {
    "name": "ipython",
    "version": 3
   },
   "file_extension": ".py",
   "mimetype": "text/x-python",
   "name": "python",
   "nbconvert_exporter": "python",
   "pygments_lexer": "ipython3",
   "version": "3.11.5"
  }
 },
 "nbformat": 4,
 "nbformat_minor": 5
}
